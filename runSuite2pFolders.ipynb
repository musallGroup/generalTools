# -*- coding: utf-8 -*-
"""
Created on Fri Mar 14 16:50:59 2025

@author: musall
"""

import os
import glob
import numpy as np
import suite2p


user_folders = [r"F:\suite2p_forNilu",
                r"F:\suite2p_forNilu1"]

       
    
def check_folder(folder_path):
    # Check for all .TIF files in the folder
    tif_files = glob.glob(os.path.join(folder_path, "*.TIF"))
    
    # Ensure that there is exactly one .TIF file
    if len(tif_files) != 1:
        return False
    
    # Check the size of the single .TIF file
    tif_file = tif_files[0]
    if os.path.getsize(tif_file) < 5 * 1024**3:  # 5GB
        return False

    # Check if 'suite2p_ops.npy' file exists
    suite2p_ops_exists = os.path.exists(os.path.join(folder_path, 'suite2p_ops.npy'))
    
    if not suite2p_ops_exists:
        return False
    
    # # Ensure that there is no subfolder named 'suite2p'
    # for root, dirs, _ in os.walk(folder_path):
    #     if 'suite2p' in dirs:
    #         return False

    return True

def check_subfolders(parent_folder):
    # Loop through all subfolders in the given parent folder
    for root, dirs, files in os.walk(parent_folder):
        for dir_name in dirs:
            folder_path = os.path.join(root, dir_name)
            
            # Check the folder using check_folder function
            if check_folder(folder_path):
                print(f"Folder '{folder_path}' meets the requirements. Running suite2p")
                                
                ops = np.load(os.path.join(folder_path, 'suite2p_ops.npy'), allow_pickle=True)
                ops = ops.tolist()
                
                db = {'data_path': [folder_path],
                      'save_path0': folder_path,
                      'fast_disk': folder_path,
                      'input_format': 'tif',
                      'subfolders': []}
                
                np.save(os.path.join(folder_path, 'db.npy'), db)

                
                suite2p.run_s2p(ops=ops, db=db)
                
                

for folder in user_folders:
    print(f"Checking subfolders in: {folder}")
    check_subfolders(folder)